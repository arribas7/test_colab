{
  "nbformat": 4,
  "nbformat_minor": 0,
  "metadata": {
    "colab": {
      "name": "110_exercise_intro.ipynb",
      "provenance": [],
      "collapsed_sections": [],
      "mount_file_id": "11RLxl6IYsobksZERPvPteamCfO_xnE3_",
      "authorship_tag": "ABX9TyPtzV2UU3j1cmOPIoH5c/Dd",
      "include_colab_link": true
    },
    "kernelspec": {
      "name": "python3",
      "display_name": "Python 3"
    },
    "language_info": {
      "name": "python"
    }
  },
  "cells": [
    {
      "cell_type": "markdown",
      "metadata": {
        "id": "view-in-github",
        "colab_type": "text"
      },
      "source": [
        "<a href=\"https://colab.research.google.com/github/arribas7/test_colab/blob/main/110_exercise_intro.ipynb\" target=\"_parent\"><img src=\"https://colab.research.google.com/assets/colab-badge.svg\" alt=\"Open In Colab\"/></a>"
      ]
    },
    {
      "cell_type": "code",
      "source": [
        "import pandas as pd\n",
        "import numpy as np"
      ],
      "metadata": {
        "id": "TQwHzmTm2yn1"
      },
      "execution_count": 1,
      "outputs": []
    },
    {
      "cell_type": "code",
      "source": [
        "revenue = 10000\n",
        "tax = 0.19\n",
        "income = revenue * tax\n",
        "income"
      ],
      "metadata": {
        "id": "WFYr9bpkePUR",
        "outputId": "ce9e95ec-25f5-4a52-fcb4-0da31615d154",
        "colab": {
          "base_uri": "https://localhost:8080/"
        }
      },
      "execution_count": 2,
      "outputs": [
        {
          "output_type": "execute_result",
          "data": {
            "text/plain": [
              "1900.0"
            ]
          },
          "metadata": {},
          "execution_count": 2
        }
      ]
    },
    {
      "cell_type": "code",
      "source": [
        "np.random.rand?"
      ],
      "metadata": {
        "id": "b_Z9kuXsmy48"
      },
      "execution_count": 3,
      "outputs": []
    },
    {
      "cell_type": "markdown",
      "source": [
        "An ordered list:\n",
        "1. One\n",
        "2. Two\n",
        "3. Three\n",
        "\n",
        "An unordered list\n",
        "* One\n",
        "* Two\n",
        "*Three\n",
        "\n",
        "\n",
        "\n"
      ],
      "metadata": {
        "id": "2luyOWnhFomY"
      }
    },
    {
      "cell_type": "markdown",
      "source": [
        "Examples of *markdown*\n",
        "\n",
        "Examples of **markdown**\n",
        "\n",
        "Examples of _markdown_\n",
        "\n",
        "Examples of 'markdown'"
      ],
      "metadata": {
        "id": "LWJ8EQkBNySz"
      }
    },
    {
      "cell_type": "markdown",
      "source": [
        "[Google](https://www.google.com/)\n",
        "![Python](data:image/jpeg;base64,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)\n",
        "\n",
        "\n"
      ],
      "metadata": {
        "id": "8EX-aStBSYJ8"
      }
    },
    {
      "cell_type": "markdown",
      "source": [
        "$y=x^25$\n",
        "\n",
        "$\\frac(1)(n) \\sum(i=1)^(n)$\n",
        "\n",
        "$A = \\begin{pmatrix}\n",
        "a_{1,1} & a_{1,2} \\\\\n",
        "a_{1,1} & a_{1,2}\n",
        "\\end{pmatrix}$\n"
      ],
      "metadata": {
        "id": "GSexE2EDg2lS"
      }
    },
    {
      "cell_type": "markdown",
      "source": [
        " Col1 | Col2 | Col3 \n",
        "  --- | --- | --- \n",
        " val1 | val2 | val3 \n",
        "\n"
      ],
      "metadata": {
        "id": "4fIXoGb0g5JZ"
      }
    },
    {
      "cell_type": "code",
      "source": [
        "import sys\n",
        " \n",
        " \n",
        "print(sys.version.split()[0])"
      ],
      "metadata": {
        "id": "hXERNMPCSY4J",
        "outputId": "5c30317f-cfca-48b8-d300-7688e58dacf4",
        "colab": {
          "base_uri": "https://localhost:8080/"
        }
      },
      "execution_count": 4,
      "outputs": [
        {
          "output_type": "stream",
          "name": "stdout",
          "text": [
            "3.7.13\n"
          ]
        }
      ]
    },
    {
      "cell_type": "code",
      "source": [
        "import sqlite3\n",
        "  \n",
        " \n",
        "print(sqlite3.version)"
      ],
      "metadata": {
        "id": "jOGfFmHEw5SI",
        "outputId": "bef56d12-959e-45a5-d30c-5651c22c3fd4",
        "colab": {
          "base_uri": "https://localhost:8080/"
        }
      },
      "execution_count": 5,
      "outputs": [
        {
          "output_type": "stream",
          "name": "stdout",
          "text": [
            "2.6.0\n"
          ]
        }
      ]
    },
    {
      "cell_type": "markdown",
      "source": [
        "Welcome to the Project - E-learning platform section!\n",
        "\n",
        "\n",
        "\n",
        "In this part, we will build a simple database that will support the e-learning platform. For the purposes of this exercise, let's name it \"esmartdata\". What are we going to need? What tables do we need to create? What kind of relationships to use?\n",
        "\n",
        "\n",
        "\n",
        "Ultimately, our database will consist of four tables:"
      ],
      "metadata": {
        "id": "3t_X2ibv9SAo"
      }
    },
    {
      "cell_type": "markdown",
      "source": [
        "Exercise 1\n",
        "Using the built-in sqlite3 package, create SQLite database named 'esmartdata.sqlite3'.\n",
        "\n",
        "\n",
        "\n",
        "Then create a table in this database called \"esmartdata_instructor\" with the following columns (column name - data type):\n",
        "\n",
        "id - integer\n",
        "\n",
        "first_name - text\n",
        "\n",
        "last_name - text\n",
        "\n",
        "description - text"
      ],
      "metadata": {
        "id": "MlpnAS6zVmiR"
      }
    },
    {
      "cell_type": "code",
      "source": [
        "\n",
        "import sqlite3\n",
        " \n",
        " \n",
        "conn = sqlite3.connect('esmartdata.sqlite3')\n",
        "cur = conn.cursor()\n",
        " \n",
        "cur.executescript('''DROP TABLE IF EXISTS \"esmartdata_instructor\";\n",
        "CREATE TABLE IF NOT EXISTS \"esmartdata_instructor\" (\n",
        "  \"id\" integer NOT NULL,\n",
        "  \"first_name\" text NOT NULL,\n",
        "  \"last_name\" text NOT NULL,\n",
        "  \"description\" text NOT NULL,\n",
        "  PRIMARY KEY(\"id\" AUTOINCREMENT)\n",
        ");''')\n",
        " \n",
        "conn.commit()\n",
        "conn.close()"
      ],
      "metadata": {
        "id": "RF7oNys_8fde"
      },
      "execution_count": 6,
      "outputs": []
    },
    {
      "cell_type": "code",
      "source": [
        "import sqlite3\n",
        "\n",
        "conn = sqlite3.connect('esmartdata.sqlite3')\n",
        "cur = conn.cursor()\n",
        "\n",
        "cur.execute('''DROP TABLE IF EXISTS \"esmardata_instructor\"''')\n",
        "cur.execute('''CREATE TABLE IF NOT EXISTS \"esmartdata_instructor\" (\n",
        "  \"id\" integer NOT NULL,\n",
        "  \"first_name\" text NOT NULL,\n",
        "  \"last_name\" text NOT NULL,\n",
        "  PRIMARY KEY(\"id\" AUTOINCREMENT) \n",
        ")''')\n",
        "\n",
        "\n",
        "conn.commit()\n",
        "conn.close()\n",
        "\n",
        "\n"
      ],
      "metadata": {
        "id": "jeVkEDtDWipJ"
      },
      "execution_count": 7,
      "outputs": []
    },
    {
      "cell_type": "markdown",
      "source": [
        "**Exercise 6**\n",
        "\n",
        "Using the built-in sqlite3 package, SQLite database called 'esmartdata.sqlite3' was prepared, which contains the following tables:\n",
        "\n",
        "\"esmartdata_instructor\"\n",
        "\n",
        "\"esmartdata_course\"\n",
        "\n",
        "\n",
        "\n",
        "Create an index named \"esmartdata_course_instructor_id_idx\" for the column instructor_id of the table \"esmartdata_course\". Before creating the index, use the appropriate SQL command that will remove the \"esmartdata_course_instructor_id_idx\" index if it already exists in the database.\n",
        "\n",
        "\n",
        "\n",
        "Commit the changes and close the database connection.\n",
        "\n",
        "\n",
        "\n",
        "\n"
      ],
      "metadata": {
        "id": "n0_z_lDO0B_V"
      }
    },
    {
      "cell_type": "code",
      "source": [
        "\n",
        "import sqlite3\n",
        "\n",
        "\n",
        "conn = sqlite3.connect('esmartdata.sqlite3') #Connect to database\n",
        "cur = conn.cursor()\n",
        "\n",
        "cur.executescript('''DROP TABLE IF EXISTS \"esmartdata_instructor\";\n",
        "CREATE TABLE IF NOT EXISTS \"esmartdata_instructor\" (\n",
        "  \"id\" integer NOT NULL,\n",
        "  \"first_name\" text NOT NULL,\n",
        "  \"last_name\" text NOT NULL,\n",
        "  \"description\" text NOT NULL,\n",
        "  PRIMARY KEY(\"id\" AUTOINCREMENT)\n",
        ");\n",
        "\n",
        "DROP TABLE IF EXISTS \"esmartdata_course\";\n",
        "CREATE TABLE IF NOT EXISTS \"esmartdata_course\" (\n",
        "  \"id\" integer NOT NULL,\n",
        "  \"title\" text NOT NULL,\n",
        "  \"subtitle\" text NOT NULL,\n",
        "  \"description\" text NOT NULL,\n",
        "  \"category\" text NOT NULL,\n",
        "  \"subcategory\" text NOT NULL,\n",
        "  \"language\" text NOT NULL,\n",
        "  \"length\" text NOT NULL,\n",
        "  \"rating\" real NOT NULL,\n",
        "  \"referral_link\" text NOT NULL,\n",
        "  \"instructor_id\" integer NOT NULL,\n",
        "  PRIMARY KEY(\"id\" AUTOINCREMENT),\n",
        "  FOREIGN KEY(\"instructor_id\") REFERENCES \"esmartdata_instructor\"(\"id\")\n",
        "  ON DELETE CASCADE ON UPDATE CASCADE\n",
        ");\n",
        "\n",
        "INSERT INTO\n",
        "  \"esmartdata_instructor\" (\"id\", \"first_name\", \"last_name\", \"description\")\n",
        "VALUES\n",
        "  (\n",
        "    1,\n",
        "    \"Pawel\",\n",
        "    \"Krakowiak\",\n",
        "    \"Data Scientist/Python Developer/Securities Broker\"\n",
        "  );\n",
        "\n",
        "INSERT INTO\n",
        "  \"esmartdata_instructor\" (\"id\", \"first_name\", \"last_name\", \"description\")\n",
        "VALUES\n",
        "  (\n",
        "    2,\n",
        "    \"takeITeasy\",\n",
        "    \"Academy\",\n",
        "    \"Akademia Programowania\"\n",
        "  );''')\n",
        "\n",
        "with open('load_esmartdata_course.sql', 'r', encoding='utf-8') as file:\n",
        "    sql = file.read()\n",
        "\n",
        "cur.executescript(sql)\n",
        "\n",
        "# Enter your solution here\n",
        "cur.execute('''DROP INDEX IF EXISTS \n",
        "\"esmartdata_course_instructor_id_idx\"''')\n",
        "\n",
        "cur.execute('''CREATE INDEX IF NOT EXISTS \n",
        "\"esmartdata_course_instructor_id_idx\" \n",
        "ON \"esmartdata_course\" (\"instructor_id\")''')\n",
        "\n",
        "conn.commit()\n",
        "conn.close()"
      ],
      "metadata": {
        "id": "Y5qaqT_nZvyQ",
        "colab": {
          "base_uri": "https://localhost:8080/",
          "height": 235
        },
        "outputId": "41e1950d-3c32-42c5-dca7-40efcadfb004"
      },
      "execution_count": 10,
      "outputs": [
        {
          "output_type": "error",
          "ename": "FileNotFoundError",
          "evalue": "ignored",
          "traceback": [
            "\u001b[0;31m---------------------------------------------------------------------------\u001b[0m",
            "\u001b[0;31mFileNotFoundError\u001b[0m                         Traceback (most recent call last)",
            "\u001b[0;32m<ipython-input-10-a5a7d0b79cbc>\u001b[0m in \u001b[0;36m<module>\u001b[0;34m\u001b[0m\n\u001b[1;32m     52\u001b[0m   );''')\n\u001b[1;32m     53\u001b[0m \u001b[0;34m\u001b[0m\u001b[0m\n\u001b[0;32m---> 54\u001b[0;31m \u001b[0;32mwith\u001b[0m \u001b[0mopen\u001b[0m\u001b[0;34m(\u001b[0m\u001b[0;34m'load_esmartdata_course.sql'\u001b[0m\u001b[0;34m,\u001b[0m \u001b[0;34m'r'\u001b[0m\u001b[0;34m,\u001b[0m \u001b[0mencoding\u001b[0m\u001b[0;34m=\u001b[0m\u001b[0;34m'utf-8'\u001b[0m\u001b[0;34m)\u001b[0m \u001b[0;32mas\u001b[0m \u001b[0mfile\u001b[0m\u001b[0;34m:\u001b[0m\u001b[0;34m\u001b[0m\u001b[0;34m\u001b[0m\u001b[0m\n\u001b[0m\u001b[1;32m     55\u001b[0m     \u001b[0msql\u001b[0m \u001b[0;34m=\u001b[0m \u001b[0mfile\u001b[0m\u001b[0;34m.\u001b[0m\u001b[0mread\u001b[0m\u001b[0;34m(\u001b[0m\u001b[0;34m)\u001b[0m\u001b[0;34m\u001b[0m\u001b[0;34m\u001b[0m\u001b[0m\n\u001b[1;32m     56\u001b[0m \u001b[0;34m\u001b[0m\u001b[0m\n",
            "\u001b[0;31mFileNotFoundError\u001b[0m: [Errno 2] No such file or directory: 'load_esmartdata_course.sql'"
          ]
        }
      ]
    },
    {
      "cell_type": "markdown",
      "source": [
        "**Exercise 7**\n",
        "\n",
        "Using the built-in sqlite3 package, SQLite database called 'esmartdata.sqlite3' was prepared, which contains the following tables:\n",
        "\n",
        "\"esmartdata_instructor\"\n",
        "\n",
        "\"esmartdata_course\"\n",
        "\n",
        "\n",
        "\n",
        "Create a query that extracts all course names from the \"esmartdata_course\" table (title column) and print it to the console as shown below."
      ],
      "metadata": {
        "id": "aJKiT4T20djX"
      }
    },
    {
      "cell_type": "code",
      "source": [
        "import sqlite3\n",
        "\n",
        "\n",
        "conn = sqlite3.connect('esmartdata.sqlite3')\n",
        "cur = conn.cursor()\n",
        "\n",
        "cur.executescript('''DROP TABLE IF EXISTS \"esmartdata_instructor\";\n",
        "CREATE TABLE IF NOT EXISTS \"esmartdata_instructor\" (\n",
        "  \"id\" integer NOT NULL,\n",
        "  \"first_name\" text NOT NULL,\n",
        "  \"last_name\" text NOT NULL,\n",
        "  \"description\" text NOT NULL,\n",
        "  PRIMARY KEY(\"id\" AUTOINCREMENT)\n",
        ");\n",
        "\n",
        "DROP TABLE IF EXISTS \"esmartdata_course\";\n",
        "CREATE TABLE IF NOT EXISTS \"esmartdata_course\" (\n",
        "  \"id\" integer NOT NULL,\n",
        "  \"title\" text NOT NULL,\n",
        "  \"subtitle\" text NOT NULL,\n",
        "  \"description\" text NOT NULL,\n",
        "  \"category\" text NOT NULL,\n",
        "  \"subcategory\" text NOT NULL,\n",
        "  \"language\" text NOT NULL,\n",
        "  \"length\" text NOT NULL,\n",
        "  \"rating\" real NOT NULL,\n",
        "  \"referral_link\" text NOT NULL,\n",
        "  \"instructor_id\" integer NOT NULL,\n",
        "  PRIMARY KEY(\"id\" AUTOINCREMENT),\n",
        "  FOREIGN KEY(\"instructor_id\") REFERENCES \"esmartdata_instructor\"(\"id\")\n",
        "  ON DELETE CASCADE ON UPDATE CASCADE\n",
        ");\n",
        "\n",
        "INSERT INTO\n",
        "  \"esmartdata_instructor\" (\"id\", \"first_name\", \"last_name\", \"description\")\n",
        "VALUES\n",
        "  (\n",
        "    1,\n",
        "    \"Pawel\",\n",
        "    \"Krakowiak\",\n",
        "    \"Data Scientist/Python Developer/Securities Broker\"\n",
        "  );\n",
        "\n",
        "INSERT INTO\n",
        "  \"esmartdata_instructor\" (\"id\", \"first_name\", \"last_name\", \"description\")\n",
        "VALUES\n",
        "  (\n",
        "    2,\n",
        "    \"takeITeasy\",\n",
        "    \"Academy\",\n",
        "    \"Akademia Programowania\"\n",
        "  );''')\n",
        "\n",
        "with open('load_esmartdata_course.sql', 'r', encoding='utf-8') as file:\n",
        "    sql = file.read()\n",
        "\n",
        "cur.executescript(sql)\n",
        "\n",
        "cur.execute('''DROP INDEX IF EXISTS \"esmartdata_course_instructor_id_idx\"''')\n",
        "cur.execute('''CREATE INDEX IF NOT EXISTS \"esmartdata_course_instructor_id_idx\" \n",
        "ON \"esmartdata_course\" (\"instructor_id\")''')\n",
        "\n",
        "conn.commit()\n",
        "\n",
        "# Enter your solution here\n",
        "cur.execute('''SELECT \"title\" FROM \"esmartdata_course\"''')\n",
        "\n",
        "for row in cur.fetchall():\n",
        "    print(row[0])\n",
        "\n",
        "\n",
        "conn.close()"
      ],
      "metadata": {
        "id": "9b-PE89s0iTh"
      },
      "execution_count": null,
      "outputs": []
    }
  ]
}