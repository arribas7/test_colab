{
  "nbformat": 4,
  "nbformat_minor": 0,
  "metadata": {
    "colab": {
      "name": "110_exercise_intro.ipynb",
      "provenance": [],
      "collapsed_sections": [],
      "mount_file_id": "11RLxl6IYsobksZERPvPteamCfO_xnE3_",
      "authorship_tag": "ABX9TyNHOrIdMvp1KbEMQAgT2Q+J",
      "include_colab_link": true
    },
    "kernelspec": {
      "name": "python3",
      "display_name": "Python 3"
    },
    "language_info": {
      "name": "python"
    }
  },
  "cells": [
    {
      "cell_type": "markdown",
      "metadata": {
        "id": "view-in-github",
        "colab_type": "text"
      },
      "source": [
        "<a href=\"https://colab.research.google.com/github/arribas7/test_colab/blob/main/110_exercise_intro.ipynb\" target=\"_parent\"><img src=\"https://colab.research.google.com/assets/colab-badge.svg\" alt=\"Open In Colab\"/></a>"
      ]
    },
    {
      "cell_type": "code",
      "source": [
        "import pandas as pd\n",
        "import numpy as np"
      ],
      "metadata": {
        "id": "TQwHzmTm2yn1"
      },
      "execution_count": 1,
      "outputs": []
    }
  ]
}