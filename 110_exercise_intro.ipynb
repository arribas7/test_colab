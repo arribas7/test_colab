{
  "nbformat": 4,
  "nbformat_minor": 0,
  "metadata": {
    "colab": {
      "name": "110_exercise_intro.ipynb",
      "provenance": [],
      "collapsed_sections": [],
      "mount_file_id": "11RLxl6IYsobksZERPvPteamCfO_xnE3_",
      "authorship_tag": "ABX9TyPkfe7mqdWN4T4rUk6ox+IM",
      "include_colab_link": true
    },
    "kernelspec": {
      "name": "python3",
      "display_name": "Python 3"
    },
    "language_info": {
      "name": "python"
    }
  },
  "cells": [
    {
      "cell_type": "markdown",
      "metadata": {
        "id": "view-in-github",
        "colab_type": "text"
      },
      "source": [
        "<a href=\"https://colab.research.google.com/github/arribas7/test_colab/blob/main/110_exercise_intro.ipynb\" target=\"_parent\"><img src=\"https://colab.research.google.com/assets/colab-badge.svg\" alt=\"Open In Colab\"/></a>"
      ]
    },
    {
      "cell_type": "code",
      "source": [
        "import pandas as pd\n",
        "import numpy as np"
      ],
      "metadata": {
        "id": "TQwHzmTm2yn1"
      },
      "execution_count": 1,
      "outputs": []
    },
    {
      "cell_type": "code",
      "source": [
        "print ('Hello colab')"
      ],
      "metadata": {
        "id": "7Nm-i_Wpacgb",
        "outputId": "5106cec6-0814-4085-eb3e-2e1805c8ee18",
        "colab": {
          "base_uri": "https://localhost:8080/"
        }
      },
      "execution_count": 2,
      "outputs": [
        {
          "output_type": "stream",
          "name": "stdout",
          "text": [
            "Hello colab\n"
          ]
        }
      ]
    }
  ]
}